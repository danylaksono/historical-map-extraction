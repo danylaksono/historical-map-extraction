{
 "cells": [
  {
   "cell_type": "markdown",
   "metadata": {
    "id": "euA0Q5kMYDT6"
   },
   "source": [
    "# Building extraction from historical map using SVM classifier in Python\n"
   ]
  },
  {
   "cell_type": "markdown",
   "metadata": {
    "id": "ThXAmcFt02hx"
   },
   "source": [
    "## Data Wrangling and Preparation"
   ]
  },
  {
   "cell_type": "markdown",
   "metadata": {
    "id": "PQKnzPj-fYyg"
   },
   "source": [
    "### Mounting Google Drive"
   ]
  },
  {
   "cell_type": "code",
   "execution_count": 2,
   "metadata": {
    "id": "Q2N3p_dRfbNY"
   },
   "outputs": [],
   "source": [
    "#from google.colab import drive\n",
    "#drive.mount('/content/drive')"
   ]
  },
  {
   "cell_type": "markdown",
   "metadata": {
    "id": "TfJkABxQO7IP"
   },
   "source": [
    "### Install Dependencies"
   ]
  },
  {
   "cell_type": "code",
   "execution_count": 3,
   "metadata": {
    "colab": {
     "base_uri": "https://localhost:8080/"
    },
    "id": "hkN7S3T0UsRb",
    "outputId": "72a1bf9b-4c64-48a6-9ca2-0cc753cc17f6"
   },
   "outputs": [
    {
     "name": "stdout",
     "output_type": "stream",
     "text": [
      "Collecting rasterio\n",
      "  Downloading rasterio-1.1.8.tar.gz (2.1 MB)\n",
      "  Installing build dependencies: started\n",
      "  Installing build dependencies: still running...\n",
      "  Installing build dependencies: finished with status 'done'"
     ]
    },
    {
     "name": "stderr",
     "output_type": "stream",
     "text": [
      "  ERROR: Command errored out with exit status 1:\n",
      "   command: 'C:\\Users\\Geomatika\\miniconda3\\python.exe' 'C:\\Users\\Geomatika\\miniconda3\\lib\\site-packages\\pip\\_vendor\\pep517\\_in_process.py' get_requires_for_build_wheel 'C:\\Users\\GEOMAT~1\\AppData\\Local\\Temp\\tmpnvp1rwrx'\n",
      "       cwd: C:\\Users\\GEOMAT~1\\AppData\\Local\\Temp\\pip-install-539juolt\\rasterio\n",
      "  Complete output (2 lines):\n",
      "  INFO:root:Building on Windows requires extra options to setup.py to locate needed GDAL files. More information is available in the README.\n",
      "  ERROR: A GDAL API version must be specified. Provide a path to gdal-config using a GDAL_CONFIG environment variable or use a GDAL_VERSION environment variable.\n",
      "  ----------------------------------------\n",
      "ERROR: Command errored out with exit status 1: 'C:\\Users\\Geomatika\\miniconda3\\python.exe' 'C:\\Users\\Geomatika\\miniconda3\\lib\\site-packages\\pip\\_vendor\\pep517\\_in_process.py' get_requires_for_build_wheel 'C:\\Users\\GEOMAT~1\\AppData\\Local\\Temp\\tmpnvp1rwrx' Check the logs for full command output.\n"
     ]
    },
    {
     "name": "stdout",
     "output_type": "stream",
     "text": [
      "\n",
      "  Getting requirements to build wheel: started\n",
      "  Getting requirements to build wheel: finished with status 'error'\n"
     ]
    }
   ],
   "source": [
    "!pip install rasterio geopandas shapely"
   ]
  },
  {
   "cell_type": "markdown",
   "metadata": {
    "id": "9xfUxBe3fUbE"
   },
   "source": [
    "### Loading libraries\n"
   ]
  },
  {
   "cell_type": "code",
   "execution_count": 4,
   "metadata": {
    "id": "Ql6BFxgRX28D"
   },
   "outputs": [
    {
     "ename": "ModuleNotFoundError",
     "evalue": "No module named 'rasterio'",
     "output_type": "error",
     "traceback": [
      "\u001b[1;31m---------------------------------------------------------------------------\u001b[0m",
      "\u001b[1;31mModuleNotFoundError\u001b[0m                       Traceback (most recent call last)",
      "\u001b[1;32m<ipython-input-4-4f53bc314d7c>\u001b[0m in \u001b[0;36m<module>\u001b[1;34m\u001b[0m\n\u001b[0;32m      1\u001b[0m \u001b[1;32mimport\u001b[0m \u001b[0mos\u001b[0m\u001b[1;33m\u001b[0m\u001b[1;33m\u001b[0m\u001b[0m\n\u001b[1;32m----> 2\u001b[1;33m \u001b[1;32mimport\u001b[0m \u001b[0mrasterio\u001b[0m\u001b[1;33m\u001b[0m\u001b[1;33m\u001b[0m\u001b[0m\n\u001b[0m\u001b[0;32m      3\u001b[0m \u001b[1;32mfrom\u001b[0m \u001b[0mrasterio\u001b[0m\u001b[1;33m.\u001b[0m\u001b[0mmask\u001b[0m \u001b[1;32mimport\u001b[0m \u001b[0mmask\u001b[0m\u001b[1;33m\u001b[0m\u001b[1;33m\u001b[0m\u001b[0m\n\u001b[0;32m      4\u001b[0m \u001b[1;32mfrom\u001b[0m \u001b[0mskimage\u001b[0m \u001b[1;32mimport\u001b[0m \u001b[0mio\u001b[0m\u001b[1;33m,\u001b[0m \u001b[0mcolor\u001b[0m\u001b[1;33m,\u001b[0m \u001b[0mexposure\u001b[0m\u001b[1;33m\u001b[0m\u001b[1;33m\u001b[0m\u001b[0m\n\u001b[0;32m      5\u001b[0m \u001b[1;32mimport\u001b[0m \u001b[0mgeopandas\u001b[0m \u001b[1;32mas\u001b[0m \u001b[0mgpd\u001b[0m\u001b[1;33m\u001b[0m\u001b[1;33m\u001b[0m\u001b[0m\n",
      "\u001b[1;31mModuleNotFoundError\u001b[0m: No module named 'rasterio'"
     ]
    }
   ],
   "source": [
    "import os\n",
    "import rasterio\n",
    "from rasterio.mask import mask\n",
    "from skimage import io, color, exposure\n",
    "import geopandas as gpd\n",
    "import numpy as np\n",
    "import cv2\n",
    "from matplotlib import pyplot\n",
    "from shapely.geometry import mapping\n"
   ]
  },
  {
   "cell_type": "markdown",
   "metadata": {
    "id": "niVkrkVyfm_s"
   },
   "source": [
    "### Loading Data"
   ]
  },
  {
   "cell_type": "code",
   "execution_count": null,
   "metadata": {
    "colab": {
     "base_uri": "https://localhost:8080/"
    },
    "id": "VzGYe9LDQPjI",
    "outputId": "b138c5ad-3c23-4b44-87be-840e92010315"
   },
   "outputs": [],
   "source": [
    "!wget https://drive.google.com/uc?id=1G1--4hO5vlUSH9xEGRPH_CGbTJ5XduF5 -O jogja.tif\n",
    "#!wget https://github.com/danylaksono/historical-map-extraction/blob/main/Data/jogja_10000_1925.tif -O jogja.tif\n",
    "\n",
    "!wget https://github.com/danylaksono/historical-map-extraction/blob/main/Data/clipper.zip -O clipper.zip\n"
   ]
  },
  {
   "cell_type": "markdown",
   "metadata": {
    "id": "pYNlyiLkfvHe"
   },
   "source": [
    "### Display the map"
   ]
  },
  {
   "cell_type": "code",
   "execution_count": null,
   "metadata": {
    "colab": {
     "base_uri": "https://localhost:8080/",
     "height": 928
    },
    "id": "vnPsrObAVBnl",
    "outputId": "9be0a635-5773-4e79-913e-f782381886ac"
   },
   "outputs": [],
   "source": [
    "from matplotlib import pyplot as plt\n",
    "from rasterio.plot import show\n",
    "\n",
    "# enlarge the plot\n",
    "plt.rcParams[\"figure.figsize\"] = (20,20)\n",
    "\n",
    "\n",
    "# calling the image as source\n",
    "# python 'with' ensures that the file is closed after the iteration\n",
    "with rasterio.open(\"jogja.tif\") as src:\n",
    "  # checking the loaded data\n",
    "  print(src.crs)\n",
    "  print(src.meta)\n",
    "  show(src.read(), transform=src.transform)"
   ]
  },
  {
   "cell_type": "markdown",
   "metadata": {
    "id": "ESKtBjlVoTlw"
   },
   "source": [
    "### Clip the map"
   ]
  },
  {
   "cell_type": "code",
   "execution_count": null,
   "metadata": {
    "colab": {
     "base_uri": "https://localhost:8080/"
    },
    "id": "-Mu-00p0lxxF",
    "outputId": "146b591b-f550-4a71-d54e-29c0bbfdf69d"
   },
   "outputs": [],
   "source": [
    "url = 'https://raw.githubusercontent.com/danylaksono/historical-map-extraction/main/Data/clipper.geojson'\n",
    "shapes = gpd.read_file(url)\n",
    "print(shapes.head())"
   ]
  },
  {
   "cell_type": "code",
   "execution_count": null,
   "metadata": {
    "colab": {
     "base_uri": "https://localhost:8080/",
     "height": 1000
    },
    "id": "JTZ4jNLqly6_",
    "outputId": "961f280d-2ed2-4424-d0e6-086d7aca6340"
   },
   "outputs": [],
   "source": [
    "# clip the image\n",
    "with rasterio.open(\"jogja.tif\") as src:\n",
    "    out_image, out_transform = rasterio.mask.mask(src, shapes.geometry, crop=True)\n",
    "    out_meta = src.meta\n",
    "    \n",
    "# update metadata for writing\n",
    "out_meta.update({\"driver\": \"GTiff\",\n",
    "                 \"height\": out_image.shape[1],\n",
    "                 \"width\": out_image.shape[2],\n",
    "                 \"transform\": out_transform})\n",
    "\n",
    "# write the clipped image\n",
    "with rasterio.open(\"jogja_clipped.tif\", \"w\", **out_meta) as dest:\n",
    "    dest.write(out_image)\n",
    "\n",
    "# show clipped map\n",
    "clippedsrc = rasterio.open(\"jogja_clipped.tif\")\n",
    "show(clippedsrc.read(), transform=clippedsrc.transform)"
   ]
  },
  {
   "cell_type": "code",
   "execution_count": null,
   "metadata": {
    "colab": {
     "base_uri": "https://localhost:8080/"
    },
    "id": "LQV3AGvEGoqx",
    "outputId": "562ed3fd-e1bf-47c6-b3ae-8d55f3270b71"
   },
   "outputs": [],
   "source": [
    "print(clippedsrc.height)\n",
    "print(clippedsrc.width)\n"
   ]
  },
  {
   "cell_type": "code",
   "execution_count": null,
   "metadata": {
    "id": "MsmiwFDVG3cD"
   },
   "outputs": [],
   "source": [
    "#clippedsrc.close()"
   ]
  },
  {
   "cell_type": "markdown",
   "metadata": {
    "id": "aQiwTVy32vKR"
   },
   "source": [
    "## Image Classification with Machine Learning"
   ]
  },
  {
   "cell_type": "markdown",
   "metadata": {
    "id": "vQSeRCH0234a"
   },
   "source": [
    "### Preparing data"
   ]
  },
  {
   "cell_type": "code",
   "execution_count": null,
   "metadata": {
    "colab": {
     "base_uri": "https://localhost:8080/",
     "height": 460
    },
    "id": "yJp4fE_53yoE",
    "outputId": "2a39db46-4373-47f6-bde1-7d49ad3c1cf0"
   },
   "outputs": [],
   "source": [
    "import matplotlib.pyplot as plt\n",
    "from rasterio.plot import show\n",
    "\n",
    "clipped_img = clippedsrc.read([1,2,3])[:, 700:1200, 800:2000]\n",
    "\n",
    "print(clipped_img.shape)\n",
    "fig, ax = plt.subplots(figsize=(20,17))\n",
    "show(clipped_img[:, :, :], ax=ax, transform=clippedsrc.transform)"
   ]
  },
  {
   "cell_type": "code",
   "execution_count": null,
   "metadata": {
    "id": "f21ej3oxsS42"
   },
   "outputs": [],
   "source": [
    "!wget https://github.com/danylaksono/historical-map-extraction/blob/main/Data/training.geojson -O training.geojson"
   ]
  },
  {
   "cell_type": "code",
   "execution_count": null,
   "metadata": {
    "colab": {
     "base_uri": "https://localhost:8080/"
    },
    "id": "BRF_7AN5u90A",
    "outputId": "a13febd4-32ba-4267-8c5a-59a4414513ba"
   },
   "outputs": [],
   "source": [
    "training = gpd.read_file('https://raw.githubusercontent.com/danylaksono/historical-map-extraction/main/Data/training.geojson')\n",
    "training.crs\n"
   ]
  },
  {
   "cell_type": "code",
   "execution_count": null,
   "metadata": {
    "colab": {
     "base_uri": "https://localhost:8080/",
     "height": 876
    },
    "id": "OsqcObjQJk8Y",
    "outputId": "817609a7-6ef4-473d-8371-435000a89b9b"
   },
   "outputs": [],
   "source": [
    "# plot training data and image\n",
    "fig, ax = plt.subplots(figsize=(15, 15))\n",
    "rasterio.plot.show(clippedsrc, ax=ax)\n",
    "training.plot(ax=ax, facecolor='blue', edgecolor='r');"
   ]
  },
  {
   "cell_type": "code",
   "execution_count": null,
   "metadata": {
    "colab": {
     "base_uri": "https://localhost:8080/"
    },
    "id": "d-bcgOUOLxKo",
    "outputId": "9c0c3d68-85da-40f2-a007-ad8bb47fbe91"
   },
   "outputs": [],
   "source": [
    "# jumlah data\n",
    "len(training)"
   ]
  },
  {
   "cell_type": "code",
   "execution_count": null,
   "metadata": {
    "id": "MlJLZpg8MZBG"
   },
   "outputs": [],
   "source": [
    "X = np.array([], dtype=np.int8).reshape(0,4) # pixels for training\n",
    "y = np.array([], dtype=np.string_) # labels for training"
   ]
  },
  {
   "cell_type": "code",
   "execution_count": null,
   "metadata": {
    "id": "rdmpHjx7NQkE"
   },
   "outputs": [],
   "source": [
    "# saving geometry values\n",
    "geoms = training.geometry.values \n",
    "\n",
    "# extract the raster values within the polygon \n",
    "with rasterio.open(\"jogja_clipped.tif\") as src:\n",
    "    band_count = src.count\n",
    "    for index, geom in enumerate(geoms):\n",
    "        feature = [mapping(geom)]\n",
    "\n",
    "        # the mask function returns an array of the raster pixels within this feature\n",
    "        out_image, out_transform = mask(src, feature, crop=True) \n",
    "        # eliminate all the pixels with 0 values for all 8 bands - AKA not actually part of the shapefile\n",
    "        out_image_trimmed = out_image[:,~np.all(out_image == 0, axis=0)]\n",
    "        # eliminate all the pixels with 255 values for all 8 bands - AKA not actually part of the shapefile\n",
    "        out_image_trimmed = out_image_trimmed[:,~np.all(out_image_trimmed == 255, axis=0)]\n",
    "        # reshape the array to [pixel count, bands]\n",
    "        out_image_reshaped = out_image_trimmed.reshape(-1, band_count)\n",
    "        # append the labels to the y array\n",
    "        y = np.append(y,[training[\"class\"][index]] * out_image_reshaped.shape[0]) \n",
    "        # stack the pizels onto the pixel array\n",
    "        X = np.vstack((X,out_image_reshaped))        \n"
   ]
  },
  {
   "cell_type": "code",
   "execution_count": null,
   "metadata": {
    "colab": {
     "base_uri": "https://localhost:8080/"
    },
    "id": "T0555Q-MNR0j",
    "outputId": "e0c4ab70-8ed5-4ffb-dfc8-81d47f0950e5"
   },
   "outputs": [],
   "source": [
    "# What are our classification labels?\n",
    "labels = np.unique(training[\"class\"])\n",
    "print('The training data include {n} classes: {classes}\\n'.format(n=labels.size, \n",
    "                                                                classes=labels))\n",
    "\n",
    "# We will need a \"X\" matrix containing our features, and a \"y\" array containing our labels\n",
    "print('Our X matrix is sized: {sz}'.format(sz=X.shape))\n",
    "print('Our y array is sized: {sz}'.format(sz=y.shape))"
   ]
  },
  {
   "cell_type": "markdown",
   "metadata": {
    "id": "0APqBDKqJY9X"
   },
   "source": [
    "### Plot to check"
   ]
  },
  {
   "cell_type": "code",
   "execution_count": null,
   "metadata": {
    "colab": {
     "base_uri": "https://localhost:8080/",
     "height": 0
    },
    "id": "p8fCYD_rOWEi",
    "outputId": "4db3f16b-1477-4caf-fce1-eea64f82a858"
   },
   "outputs": [],
   "source": [
    "fig, ax = plt.subplots(1,3, figsize=[20,4])\n",
    "\n",
    "# numbers 1-8\n",
    "band_count = np.arange(1,5)\n",
    "\n",
    "classes = np.unique(y)\n",
    "for class_type in classes:\n",
    "    band_intensity = np.mean(X[y==class_type, :], axis=0)\n",
    "    ax[0].plot(band_count, band_intensity, label=class_type)\n",
    "    ax[1].plot(band_count, band_intensity, label=class_type)\n",
    "    ax[2].plot(band_count, band_intensity, label=class_type)\n",
    "# plot them as lines\n",
    "\n",
    "# Add some axis labels\n",
    "ax[0].set_xlabel('Band #')\n",
    "ax[0].set_ylabel('Reflectance Value')\n",
    "ax[1].set_ylabel('Reflectance Value')\n",
    "ax[1].set_xlabel('Band #')\n",
    "ax[2].set_ylabel('Reflectance Value')\n",
    "ax[2].set_xlabel('Band #')\n",
    "#ax[0].set_ylim(32,38)\n",
    "ax[1].set_ylim(32,38)\n",
    "ax[2].set_ylim(70,140)\n",
    "#ax.set\n",
    "ax[1].legend(loc=\"upper right\")\n",
    "# Add a title\n",
    "ax[0].set_title('Band Intensities Full Overview')\n",
    "ax[1].set_title('Band Intensities Lower Ref Subset')\n",
    "ax[2].set_title('Band Intensities Higher Ref Subset')"
   ]
  },
  {
   "cell_type": "markdown",
   "metadata": {
    "id": "EUOV-fV6P_vV"
   },
   "source": [
    "### Train\n"
   ]
  },
  {
   "cell_type": "code",
   "execution_count": null,
   "metadata": {
    "colab": {
     "base_uri": "https://localhost:8080/"
    },
    "id": "mFyFow_1QBUB",
    "outputId": "ffef77f1-888b-4676-d350-a9f79397b6ac"
   },
   "outputs": [],
   "source": [
    "#from sklearn.naive_bayes import GaussianNB\n",
    "from sklearn.naive_bayes import GaussianNB\n",
    "\n",
    "gnb = GaussianNB()\n",
    "gnb.fit(X, y)"
   ]
  },
  {
   "cell_type": "code",
   "execution_count": null,
   "metadata": {
    "id": "d4SozcwAQB-L"
   },
   "outputs": [],
   "source": [
    "from rasterio.plot import show\n",
    "from rasterio.plot import show_hist\n",
    "from rasterio.windows import Window\n",
    "from rasterio.plot import reshape_as_raster, reshape_as_image"
   ]
  },
  {
   "cell_type": "code",
   "execution_count": null,
   "metadata": {
    "colab": {
     "base_uri": "https://localhost:8080/"
    },
    "id": "60dd_fEcQFst",
    "outputId": "5d867c0a-2362-4f33-f177-77b62133c940"
   },
   "outputs": [],
   "source": [
    "with rasterio.open(\"jogja_clipped.tif\") as src:\n",
    "    # may need to reduce this image size if your kernel crashes, takes a lot of memory\n",
    "    img = src.read() #[:, 150:600, 250:1400]\n",
    "\n",
    "# Take our full image and reshape into long 2d array (nrow * ncol, nband) for classification\n",
    "print(img.shape)\n",
    "reshaped_img = reshape_as_image(img)\n",
    "print(reshaped_img.shape)"
   ]
  },
  {
   "cell_type": "code",
   "execution_count": null,
   "metadata": {
    "colab": {
     "base_uri": "https://localhost:8080/"
    },
    "id": "adUV6drZQOq6",
    "outputId": "9496db89-f669-457d-8fe5-fa3340ec290d"
   },
   "outputs": [],
   "source": [
    "class_prediction = gnb.predict(reshaped_img.reshape(-1, 4))\n",
    "#class_prediction = gnb.predict(reshaped_img)\n",
    "print(class_prediction)\n",
    "\n",
    "# Reshape our classification map back into a 2D matrix so we can visualize it\n",
    "class_prediction = class_prediction.reshape(reshaped_img[:, :, 0].shape)"
   ]
  },
  {
   "cell_type": "code",
   "execution_count": null,
   "metadata": {
    "colab": {
     "base_uri": "https://localhost:8080/"
    },
    "id": "u3nFDk_ZGQon",
    "outputId": "39313311-4c3c-482b-8b45-53b9111ebe37"
   },
   "outputs": [],
   "source": [
    "class_prediction"
   ]
  },
  {
   "cell_type": "code",
   "execution_count": null,
   "metadata": {
    "id": "5IVpNoV9Qedd"
   },
   "outputs": [],
   "source": [
    "def str_class_to_int(class_array):\n",
    "    class_array[class_array == '1'] = 1\n",
    "    class_array[class_array == '2'] = 2\n",
    "    class_array[class_array == '3'] = 3\n",
    "    class_array[class_array == '4'] = 4\n",
    "    class_array[class_array == '5'] = 5\n",
    "    return(class_array.astype(int))\n",
    "\n",
    "class_prediction = str_class_to_int(class_prediction)"
   ]
  },
  {
   "cell_type": "markdown",
   "metadata": {
    "id": "AVtkBxL6ANzt"
   },
   "source": [
    "### Convert prediction to raster"
   ]
  },
  {
   "cell_type": "code",
   "execution_count": null,
   "metadata": {
    "colab": {
     "base_uri": "https://localhost:8080/",
     "height": 1000
    },
    "id": "R0FfHWwfARvb",
    "outputId": "212813a9-c0e4-4b83-d2bd-898f53aa4002"
   },
   "outputs": [],
   "source": [
    "arr = class_prediction.astype('uint8')\n",
    "print(arr.shape)\n",
    "clippedsrc = rasterio.open(\"jogja_clipped.tif\")\n",
    "\n",
    "# update metadata for writing\n",
    "out_meta.update({\"driver\": \"GTiff\",\n",
    "                 \"height\": arr.shape[0],\n",
    "                 \"width\": arr.shape[1],\n",
    "                 \"crs\":clippedsrc.crs,\n",
    "                 \"transform\": clippedsrc.transform})\n",
    "\n",
    "# write the clipped image\n",
    "with rasterio.open(\"classified.tif\", \"w\", **out_meta) as dest:\n",
    "    dest.write(arr, 1)\n",
    "\n",
    "# show clipped map\n",
    "classifiedsrc = rasterio.open(\"classified.tif\")\n",
    "show(classifiedsrc.read(), transform=classifiedsrc.transform)\n",
    "\n"
   ]
  },
  {
   "cell_type": "code",
   "execution_count": null,
   "metadata": {
    "colab": {
     "base_uri": "https://localhost:8080/"
    },
    "id": "iuzOaH6OGMXR",
    "outputId": "bd0dd0b4-e185-41c7-cb62-41f7ab4a2595"
   },
   "outputs": [],
   "source": [
    "arr\n"
   ]
  },
  {
   "cell_type": "code",
   "execution_count": null,
   "metadata": {
    "id": "mnAUc20ZEAvN"
   },
   "outputs": [],
   "source": []
  },
  {
   "cell_type": "markdown",
   "metadata": {
    "id": "nLY_S5PKD6m-"
   },
   "source": [
    "### Convert to Polygon"
   ]
  },
  {
   "cell_type": "code",
   "execution_count": null,
   "metadata": {
    "colab": {
     "base_uri": "https://localhost:8080/",
     "height": 272
    },
    "id": "7mrHRTOW_qCb",
    "outputId": "ee806d44-498f-47b2-c75b-82035ab14cce"
   },
   "outputs": [],
   "source": [
    "from shapely.geometry import Polygon\n",
    "polygon = Polygon(class_prediction)\n",
    "print(polygon.wkt)"
   ]
  },
  {
   "cell_type": "markdown",
   "metadata": {
    "id": "aHxUxyDBRGbV"
   },
   "source": [
    "### Display classification result"
   ]
  },
  {
   "cell_type": "code",
   "execution_count": null,
   "metadata": {
    "id": "xwbLNx0yQqOK"
   },
   "outputs": [],
   "source": [
    "def color_stretch(image, index):\n",
    "    colors = image[:, :, index].astype(np.float64)\n",
    "    for b in range(colors.shape[2]):\n",
    "        colors[:, :, b] = rasterio.plot.adjust_band(colors[:, :, b])\n",
    "    return colors\n",
    "    \n",
    "# find the highest pixel value in the prediction image\n",
    "n = int(np.max(class_prediction))\n",
    "\n",
    "# next setup a colormap for our map\n",
    "colors = dict((\n",
    "    (0, (48, 156, 214, 255)),   # Blue - Water\n",
    "    (1, (139,69,19, 255)),      # Brown - WetSand\n",
    "    (2, (96, 19, 134, 255)),    # Purple - Emergent Wetland\n",
    "    (3, (244, 164, 96, 255)),   # Tan - Sand\n",
    "    (4, (206, 224, 196, 255)),  # Lime - Herbaceous\n",
    "    (5, (34, 139, 34, 255)),    # Forest Green - Forest \n",
    "))\n",
    "\n",
    "# Put 0 - 255 as float 0 - 1\n",
    "for k in colors:\n",
    "  v = colors[k]\n",
    "  _v = [_v / 255.0 for _v in v]\n",
    "  colors[k] = _v\n",
    "    \n",
    "index_colors = [colors[key] if key in colors else \n",
    "    (255, 255, 255, 0) for key in range(0, n+1)]\n",
    "\n",
    "cmap = plt.matplotlib.colors.ListedColormap(index_colors, 'Classification', n+1)"
   ]
  },
  {
   "cell_type": "code",
   "execution_count": null,
   "metadata": {
    "colab": {
     "base_uri": "https://localhost:8080/",
     "height": 1000
    },
    "id": "0dxgBUPNROms",
    "outputId": "f6d60612-1845-4c5d-8946-356b37c183ca"
   },
   "outputs": [],
   "source": [
    "fig, axs = plt.subplots(2,1,figsize=(50,20))\n",
    "\n",
    "img_stretched = color_stretch(reshaped_img, [1, 2, 3])\n",
    "axs[0].imshow(reshaped_img)\n",
    "\n",
    "axs[1].imshow(class_prediction, cmap=cmap, interpolation='none')\n",
    "\n",
    "fig.show()"
   ]
  },
  {
   "cell_type": "code",
   "execution_count": null,
   "metadata": {
    "id": "grnakw4qSAze"
   },
   "outputs": [],
   "source": []
  }
 ],
 "metadata": {
  "colab": {
   "collapsed_sections": [
    "niVkrkVyfm_s",
    "0APqBDKqJY9X",
    "nLY_S5PKD6m-"
   ],
   "name": "Extraction of Buildings from Historical Map.ipynb",
   "provenance": [],
   "toc_visible": true
  },
  "kernelspec": {
   "display_name": "Python 3",
   "language": "python",
   "name": "python3"
  },
  "language_info": {
   "codemirror_mode": {
    "name": "ipython",
    "version": 3
   },
   "file_extension": ".py",
   "mimetype": "text/x-python",
   "name": "python",
   "nbconvert_exporter": "python",
   "pygments_lexer": "ipython3",
   "version": "3.7.6"
  }
 },
 "nbformat": 4,
 "nbformat_minor": 1
}
